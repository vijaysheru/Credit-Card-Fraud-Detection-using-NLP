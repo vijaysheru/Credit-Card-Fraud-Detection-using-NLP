{
  "cells": [
    {
      "cell_type": "markdown",
      "metadata": {
        "id": "view-in-github",
        "colab_type": "text"
      },
      "source": [
        "<a href=\"https://colab.research.google.com/github/vijaysheru/Credit-Card-Fraud-Detection-using-NLP/blob/main/CreditCardFraudDetection.ipynb\" target=\"_parent\"><img src=\"https://colab.research.google.com/assets/colab-badge.svg\" alt=\"Open In Colab\"/></a>"
      ]
    },
    {
      "cell_type": "markdown",
      "id": "c6feb538",
      "metadata": {
        "id": "c6feb538"
      },
      "source": [
        "# Credit Card Fraud Detection using Neural Networks"
      ]
    },
    {
      "cell_type": "markdown",
      "id": "f71a083e",
      "metadata": {
        "id": "f71a083e"
      },
      "source": [
        "## 1. Data Import and Library Setup"
      ]
    },
    {
      "cell_type": "markdown",
      "id": "ab98b6c4",
      "metadata": {
        "id": "ab98b6c4"
      },
      "source": [
        "Firstly we import all necessary libraries for the project such as pandas,pytorch,matplotlib,seaborn as the requirements for the project.The pandas library is for data manipulation, torch.nn and torch.nn.functional for building and training neural networks, and matplotlib.pyplot and seaborn for data visualization."
      ]
    },
    {
      "cell_type": "code",
      "execution_count": null,
      "id": "cb4a6592",
      "metadata": {
        "id": "cb4a6592"
      },
      "outputs": [],
      "source": [
        "#Importing Necessary Libraries required for the project\n",
        "import pandas as pd\n",
        "import torch\n",
        "import torch.nn as nn\n",
        "import torch.nn.functional as F\n",
        "import matplotlib.pyplot as plt\n",
        "import seaborn as sns"
      ]
    },
    {
      "cell_type": "markdown",
      "id": "7c6acb8c",
      "metadata": {
        "id": "7c6acb8c"
      },
      "source": [
        "This is the step of Data Loading.Here we define a dataframe (df) and use read.csv function to read the credit card csv file."
      ]
    },
    {
      "cell_type": "code",
      "execution_count": null,
      "id": "1f71f9ec",
      "metadata": {
        "id": "1f71f9ec"
      },
      "outputs": [],
      "source": [
        "#Read the CSV File\n",
        "df= pd.read_csv('creditcard.csv')"
      ]
    },
    {
      "cell_type": "markdown",
      "id": "dc7b1223",
      "metadata": {
        "id": "dc7b1223"
      },
      "source": [
        "In the next couple of lines of code we display the data using head function where it shows the first 5 columns in the dataset and tail function shows the last 5 entries in the dataset."
      ]
    },
    {
      "cell_type": "code",
      "execution_count": null,
      "id": "e04a14e9",
      "metadata": {
        "colab": {
          "base_uri": "https://localhost:8080/",
          "height": 573
        },
        "id": "e04a14e9",
        "outputId": "c007a3c4-947a-4336-bcba-71ae1903fa1c"
      },
      "outputs": [
        {
          "output_type": "execute_result",
          "data": {
            "text/plain": [
              "  Transaction Date and Time  Transaction Amount        Cardholder Name  \\\n",
              "0       2022-09-24 13:54:27              285.88            Shray Soman   \n",
              "1       2020-07-24 11:20:13             1777.32         Lakshit Bakshi   \n",
              "2       2023-03-18 01:05:36             3939.01             Riya Bobal   \n",
              "3       2021-01-07 21:53:04              376.44  Mohanlal Balakrishnan   \n",
              "4       2021-12-16 06:22:24             1687.33            Mannat Rout   \n",
              "\n",
              "                   Card Number (Hashed or Encrypted)  \\\n",
              "0  daca51bffe0fc4eaaa7c430917f94b75fd893712492254...   \n",
              "1  d5366dd9be3a0266c0252baceaa6332210ed4dbd0ef252...   \n",
              "2  4737a6384aa1c3c31f7768b86633d6a8401dd6ab4a8ff1...   \n",
              "3  4721806eed8f2663bb597ff13e79a294de318358fbb54b...   \n",
              "4  9deacc3a9efd6e382826d400620aca5f23ed94327578e5...   \n",
              "\n",
              "                 Merchant Name  Merchant Category Code (MCC)  \\\n",
              "0  Rajagopalan, Ghose and Kant                          3590   \n",
              "1                     Sule PLC                          7277   \n",
              "2                    Badal PLC                          9297   \n",
              "3                  Konda-Sodhi                          5686   \n",
              "4                      Dua Ltd                          2940   \n",
              "\n",
              "  Transaction Location (City or ZIP Code) Transaction Currency  \\\n",
              "0                                 Khammam                  INR   \n",
              "1                             Vasai-Virar                  EUR   \n",
              "2                             Nangloi Jat                  USD   \n",
              "3                              Ramagundam                  USD   \n",
              "4                                   Adoni                  INR   \n",
              "\n",
              "          Card Type Card Expiration Date  \\\n",
              "0        MasterCard                04/29   \n",
              "1  American Express                03/26   \n",
              "2              Visa                11/29   \n",
              "3              Visa                09/25   \n",
              "4        MasterCard                03/31   \n",
              "\n",
              "                      CVV Code (Hashed or Encrypted)  \\\n",
              "0  01299ac65733b5a3d774265fbfe8396b8611e5e3321855...   \n",
              "1  ad8fa913d25b3970c6efa8ca504da8ba670ce2a9cf012d...   \n",
              "2  eb3be230bbd2844b1f5d8f2e4fab9ffba8ab22cfeeb69c...   \n",
              "3  891d46993a36d78392247c642138cede01d9841daab1d9...   \n",
              "4  48a1a756f2d83f1dc57bbf14052b70a6f40d0fceed6662...   \n",
              "\n",
              "   Transaction Response Code                        Transaction ID  \\\n",
              "0                          5  b7f69cbc-a03d-41f8-adca-75920b0242c3   \n",
              "1                         12  ad53cc8e-8412-422e-8cad-4176daac8387   \n",
              "2                          5  f09cecd6-0d74-4551-8089-a31d64e6b9c5   \n",
              "3                          5  b208ae0b-4c4f-428f-b6b9-5360b288b947   \n",
              "4                          5  6b4e4e43-5b73-4906-9973-299a1b2a5e71   \n",
              "\n",
              "   Fraud Flag or Label Previous Transactions Transaction Source  \\\n",
              "0                    1                  None             Online   \n",
              "1                    1                  None             Online   \n",
              "2                    1             3 or more          In-Person   \n",
              "3                    0                     2          In-Person   \n",
              "4                    1                     2             Online   \n",
              "\n",
              "       IP Address Device Information User Account Information  \\\n",
              "0    18.106.240.6             Tablet                      NaN   \n",
              "1  212.48.185.128             Mobile                   jloyal   \n",
              "2   17.190.112.46             Mobile                      NaN   \n",
              "3  153.136.24.104             Tablet                      NaN   \n",
              "4  196.153.28.131            Desktop                      NaN   \n",
              "\n",
              "                                   Transaction Notes  \n",
              "0  Consequatur corporis minima ad vero deserunt n...  \n",
              "1  Dolore repellendus odio deleniti. Eaque quibus...  \n",
              "2  Unde beatae perspiciatis sapiente. Voluptates ...  \n",
              "3  Cupiditate repellendus necessitatibus quo occa...  \n",
              "4  Molestias assumenda consectetur itaque veritat...  "
            ],
            "text/html": [
              "\n",
              "  <div id=\"df-6c7be901-69f9-4d40-9cd4-4ab700524abc\" class=\"colab-df-container\">\n",
              "    <div>\n",
              "<style scoped>\n",
              "    .dataframe tbody tr th:only-of-type {\n",
              "        vertical-align: middle;\n",
              "    }\n",
              "\n",
              "    .dataframe tbody tr th {\n",
              "        vertical-align: top;\n",
              "    }\n",
              "\n",
              "    .dataframe thead th {\n",
              "        text-align: right;\n",
              "    }\n",
              "</style>\n",
              "<table border=\"1\" class=\"dataframe\">\n",
              "  <thead>\n",
              "    <tr style=\"text-align: right;\">\n",
              "      <th></th>\n",
              "      <th>Transaction Date and Time</th>\n",
              "      <th>Transaction Amount</th>\n",
              "      <th>Cardholder Name</th>\n",
              "      <th>Card Number (Hashed or Encrypted)</th>\n",
              "      <th>Merchant Name</th>\n",
              "      <th>Merchant Category Code (MCC)</th>\n",
              "      <th>Transaction Location (City or ZIP Code)</th>\n",
              "      <th>Transaction Currency</th>\n",
              "      <th>Card Type</th>\n",
              "      <th>Card Expiration Date</th>\n",
              "      <th>CVV Code (Hashed or Encrypted)</th>\n",
              "      <th>Transaction Response Code</th>\n",
              "      <th>Transaction ID</th>\n",
              "      <th>Fraud Flag or Label</th>\n",
              "      <th>Previous Transactions</th>\n",
              "      <th>Transaction Source</th>\n",
              "      <th>IP Address</th>\n",
              "      <th>Device Information</th>\n",
              "      <th>User Account Information</th>\n",
              "      <th>Transaction Notes</th>\n",
              "    </tr>\n",
              "  </thead>\n",
              "  <tbody>\n",
              "    <tr>\n",
              "      <th>0</th>\n",
              "      <td>2022-09-24 13:54:27</td>\n",
              "      <td>285.88</td>\n",
              "      <td>Shray Soman</td>\n",
              "      <td>daca51bffe0fc4eaaa7c430917f94b75fd893712492254...</td>\n",
              "      <td>Rajagopalan, Ghose and Kant</td>\n",
              "      <td>3590</td>\n",
              "      <td>Khammam</td>\n",
              "      <td>INR</td>\n",
              "      <td>MasterCard</td>\n",
              "      <td>04/29</td>\n",
              "      <td>01299ac65733b5a3d774265fbfe8396b8611e5e3321855...</td>\n",
              "      <td>5</td>\n",
              "      <td>b7f69cbc-a03d-41f8-adca-75920b0242c3</td>\n",
              "      <td>1</td>\n",
              "      <td>None</td>\n",
              "      <td>Online</td>\n",
              "      <td>18.106.240.6</td>\n",
              "      <td>Tablet</td>\n",
              "      <td>NaN</td>\n",
              "      <td>Consequatur corporis minima ad vero deserunt n...</td>\n",
              "    </tr>\n",
              "    <tr>\n",
              "      <th>1</th>\n",
              "      <td>2020-07-24 11:20:13</td>\n",
              "      <td>1777.32</td>\n",
              "      <td>Lakshit Bakshi</td>\n",
              "      <td>d5366dd9be3a0266c0252baceaa6332210ed4dbd0ef252...</td>\n",
              "      <td>Sule PLC</td>\n",
              "      <td>7277</td>\n",
              "      <td>Vasai-Virar</td>\n",
              "      <td>EUR</td>\n",
              "      <td>American Express</td>\n",
              "      <td>03/26</td>\n",
              "      <td>ad8fa913d25b3970c6efa8ca504da8ba670ce2a9cf012d...</td>\n",
              "      <td>12</td>\n",
              "      <td>ad53cc8e-8412-422e-8cad-4176daac8387</td>\n",
              "      <td>1</td>\n",
              "      <td>None</td>\n",
              "      <td>Online</td>\n",
              "      <td>212.48.185.128</td>\n",
              "      <td>Mobile</td>\n",
              "      <td>jloyal</td>\n",
              "      <td>Dolore repellendus odio deleniti. Eaque quibus...</td>\n",
              "    </tr>\n",
              "    <tr>\n",
              "      <th>2</th>\n",
              "      <td>2023-03-18 01:05:36</td>\n",
              "      <td>3939.01</td>\n",
              "      <td>Riya Bobal</td>\n",
              "      <td>4737a6384aa1c3c31f7768b86633d6a8401dd6ab4a8ff1...</td>\n",
              "      <td>Badal PLC</td>\n",
              "      <td>9297</td>\n",
              "      <td>Nangloi Jat</td>\n",
              "      <td>USD</td>\n",
              "      <td>Visa</td>\n",
              "      <td>11/29</td>\n",
              "      <td>eb3be230bbd2844b1f5d8f2e4fab9ffba8ab22cfeeb69c...</td>\n",
              "      <td>5</td>\n",
              "      <td>f09cecd6-0d74-4551-8089-a31d64e6b9c5</td>\n",
              "      <td>1</td>\n",
              "      <td>3 or more</td>\n",
              "      <td>In-Person</td>\n",
              "      <td>17.190.112.46</td>\n",
              "      <td>Mobile</td>\n",
              "      <td>NaN</td>\n",
              "      <td>Unde beatae perspiciatis sapiente. Voluptates ...</td>\n",
              "    </tr>\n",
              "    <tr>\n",
              "      <th>3</th>\n",
              "      <td>2021-01-07 21:53:04</td>\n",
              "      <td>376.44</td>\n",
              "      <td>Mohanlal Balakrishnan</td>\n",
              "      <td>4721806eed8f2663bb597ff13e79a294de318358fbb54b...</td>\n",
              "      <td>Konda-Sodhi</td>\n",
              "      <td>5686</td>\n",
              "      <td>Ramagundam</td>\n",
              "      <td>USD</td>\n",
              "      <td>Visa</td>\n",
              "      <td>09/25</td>\n",
              "      <td>891d46993a36d78392247c642138cede01d9841daab1d9...</td>\n",
              "      <td>5</td>\n",
              "      <td>b208ae0b-4c4f-428f-b6b9-5360b288b947</td>\n",
              "      <td>0</td>\n",
              "      <td>2</td>\n",
              "      <td>In-Person</td>\n",
              "      <td>153.136.24.104</td>\n",
              "      <td>Tablet</td>\n",
              "      <td>NaN</td>\n",
              "      <td>Cupiditate repellendus necessitatibus quo occa...</td>\n",
              "    </tr>\n",
              "    <tr>\n",
              "      <th>4</th>\n",
              "      <td>2021-12-16 06:22:24</td>\n",
              "      <td>1687.33</td>\n",
              "      <td>Mannat Rout</td>\n",
              "      <td>9deacc3a9efd6e382826d400620aca5f23ed94327578e5...</td>\n",
              "      <td>Dua Ltd</td>\n",
              "      <td>2940</td>\n",
              "      <td>Adoni</td>\n",
              "      <td>INR</td>\n",
              "      <td>MasterCard</td>\n",
              "      <td>03/31</td>\n",
              "      <td>48a1a756f2d83f1dc57bbf14052b70a6f40d0fceed6662...</td>\n",
              "      <td>5</td>\n",
              "      <td>6b4e4e43-5b73-4906-9973-299a1b2a5e71</td>\n",
              "      <td>1</td>\n",
              "      <td>2</td>\n",
              "      <td>Online</td>\n",
              "      <td>196.153.28.131</td>\n",
              "      <td>Desktop</td>\n",
              "      <td>NaN</td>\n",
              "      <td>Molestias assumenda consectetur itaque veritat...</td>\n",
              "    </tr>\n",
              "  </tbody>\n",
              "</table>\n",
              "</div>\n",
              "    <div class=\"colab-df-buttons\">\n",
              "\n",
              "  <div class=\"colab-df-container\">\n",
              "    <button class=\"colab-df-convert\" onclick=\"convertToInteractive('df-6c7be901-69f9-4d40-9cd4-4ab700524abc')\"\n",
              "            title=\"Convert this dataframe to an interactive table.\"\n",
              "            style=\"display:none;\">\n",
              "\n",
              "  <svg xmlns=\"http://www.w3.org/2000/svg\" height=\"24px\" viewBox=\"0 -960 960 960\">\n",
              "    <path d=\"M120-120v-720h720v720H120Zm60-500h600v-160H180v160Zm220 220h160v-160H400v160Zm0 220h160v-160H400v160ZM180-400h160v-160H180v160Zm440 0h160v-160H620v160ZM180-180h160v-160H180v160Zm440 0h160v-160H620v160Z\"/>\n",
              "  </svg>\n",
              "    </button>\n",
              "\n",
              "  <style>\n",
              "    .colab-df-container {\n",
              "      display:flex;\n",
              "      gap: 12px;\n",
              "    }\n",
              "\n",
              "    .colab-df-convert {\n",
              "      background-color: #E8F0FE;\n",
              "      border: none;\n",
              "      border-radius: 50%;\n",
              "      cursor: pointer;\n",
              "      display: none;\n",
              "      fill: #1967D2;\n",
              "      height: 32px;\n",
              "      padding: 0 0 0 0;\n",
              "      width: 32px;\n",
              "    }\n",
              "\n",
              "    .colab-df-convert:hover {\n",
              "      background-color: #E2EBFA;\n",
              "      box-shadow: 0px 1px 2px rgba(60, 64, 67, 0.3), 0px 1px 3px 1px rgba(60, 64, 67, 0.15);\n",
              "      fill: #174EA6;\n",
              "    }\n",
              "\n",
              "    .colab-df-buttons div {\n",
              "      margin-bottom: 4px;\n",
              "    }\n",
              "\n",
              "    [theme=dark] .colab-df-convert {\n",
              "      background-color: #3B4455;\n",
              "      fill: #D2E3FC;\n",
              "    }\n",
              "\n",
              "    [theme=dark] .colab-df-convert:hover {\n",
              "      background-color: #434B5C;\n",
              "      box-shadow: 0px 1px 3px 1px rgba(0, 0, 0, 0.15);\n",
              "      filter: drop-shadow(0px 1px 2px rgba(0, 0, 0, 0.3));\n",
              "      fill: #FFFFFF;\n",
              "    }\n",
              "  </style>\n",
              "\n",
              "    <script>\n",
              "      const buttonEl =\n",
              "        document.querySelector('#df-6c7be901-69f9-4d40-9cd4-4ab700524abc button.colab-df-convert');\n",
              "      buttonEl.style.display =\n",
              "        google.colab.kernel.accessAllowed ? 'block' : 'none';\n",
              "\n",
              "      async function convertToInteractive(key) {\n",
              "        const element = document.querySelector('#df-6c7be901-69f9-4d40-9cd4-4ab700524abc');\n",
              "        const dataTable =\n",
              "          await google.colab.kernel.invokeFunction('convertToInteractive',\n",
              "                                                    [key], {});\n",
              "        if (!dataTable) return;\n",
              "\n",
              "        const docLinkHtml = 'Like what you see? Visit the ' +\n",
              "          '<a target=\"_blank\" href=https://colab.research.google.com/notebooks/data_table.ipynb>data table notebook</a>'\n",
              "          + ' to learn more about interactive tables.';\n",
              "        element.innerHTML = '';\n",
              "        dataTable['output_type'] = 'display_data';\n",
              "        await google.colab.output.renderOutput(dataTable, element);\n",
              "        const docLink = document.createElement('div');\n",
              "        docLink.innerHTML = docLinkHtml;\n",
              "        element.appendChild(docLink);\n",
              "      }\n",
              "    </script>\n",
              "  </div>\n",
              "\n",
              "\n",
              "<div id=\"df-c37a2194-c456-41cb-a3fb-e54a54f303bf\">\n",
              "  <button class=\"colab-df-quickchart\" onclick=\"quickchart('df-c37a2194-c456-41cb-a3fb-e54a54f303bf')\"\n",
              "            title=\"Suggest charts\"\n",
              "            style=\"display:none;\">\n",
              "\n",
              "<svg xmlns=\"http://www.w3.org/2000/svg\" height=\"24px\"viewBox=\"0 0 24 24\"\n",
              "     width=\"24px\">\n",
              "    <g>\n",
              "        <path d=\"M19 3H5c-1.1 0-2 .9-2 2v14c0 1.1.9 2 2 2h14c1.1 0 2-.9 2-2V5c0-1.1-.9-2-2-2zM9 17H7v-7h2v7zm4 0h-2V7h2v10zm4 0h-2v-4h2v4z\"/>\n",
              "    </g>\n",
              "</svg>\n",
              "  </button>\n",
              "\n",
              "<style>\n",
              "  .colab-df-quickchart {\n",
              "      --bg-color: #E8F0FE;\n",
              "      --fill-color: #1967D2;\n",
              "      --hover-bg-color: #E2EBFA;\n",
              "      --hover-fill-color: #174EA6;\n",
              "      --disabled-fill-color: #AAA;\n",
              "      --disabled-bg-color: #DDD;\n",
              "  }\n",
              "\n",
              "  [theme=dark] .colab-df-quickchart {\n",
              "      --bg-color: #3B4455;\n",
              "      --fill-color: #D2E3FC;\n",
              "      --hover-bg-color: #434B5C;\n",
              "      --hover-fill-color: #FFFFFF;\n",
              "      --disabled-bg-color: #3B4455;\n",
              "      --disabled-fill-color: #666;\n",
              "  }\n",
              "\n",
              "  .colab-df-quickchart {\n",
              "    background-color: var(--bg-color);\n",
              "    border: none;\n",
              "    border-radius: 50%;\n",
              "    cursor: pointer;\n",
              "    display: none;\n",
              "    fill: var(--fill-color);\n",
              "    height: 32px;\n",
              "    padding: 0;\n",
              "    width: 32px;\n",
              "  }\n",
              "\n",
              "  .colab-df-quickchart:hover {\n",
              "    background-color: var(--hover-bg-color);\n",
              "    box-shadow: 0 1px 2px rgba(60, 64, 67, 0.3), 0 1px 3px 1px rgba(60, 64, 67, 0.15);\n",
              "    fill: var(--button-hover-fill-color);\n",
              "  }\n",
              "\n",
              "  .colab-df-quickchart-complete:disabled,\n",
              "  .colab-df-quickchart-complete:disabled:hover {\n",
              "    background-color: var(--disabled-bg-color);\n",
              "    fill: var(--disabled-fill-color);\n",
              "    box-shadow: none;\n",
              "  }\n",
              "\n",
              "  .colab-df-spinner {\n",
              "    border: 2px solid var(--fill-color);\n",
              "    border-color: transparent;\n",
              "    border-bottom-color: var(--fill-color);\n",
              "    animation:\n",
              "      spin 1s steps(1) infinite;\n",
              "  }\n",
              "\n",
              "  @keyframes spin {\n",
              "    0% {\n",
              "      border-color: transparent;\n",
              "      border-bottom-color: var(--fill-color);\n",
              "      border-left-color: var(--fill-color);\n",
              "    }\n",
              "    20% {\n",
              "      border-color: transparent;\n",
              "      border-left-color: var(--fill-color);\n",
              "      border-top-color: var(--fill-color);\n",
              "    }\n",
              "    30% {\n",
              "      border-color: transparent;\n",
              "      border-left-color: var(--fill-color);\n",
              "      border-top-color: var(--fill-color);\n",
              "      border-right-color: var(--fill-color);\n",
              "    }\n",
              "    40% {\n",
              "      border-color: transparent;\n",
              "      border-right-color: var(--fill-color);\n",
              "      border-top-color: var(--fill-color);\n",
              "    }\n",
              "    60% {\n",
              "      border-color: transparent;\n",
              "      border-right-color: var(--fill-color);\n",
              "    }\n",
              "    80% {\n",
              "      border-color: transparent;\n",
              "      border-right-color: var(--fill-color);\n",
              "      border-bottom-color: var(--fill-color);\n",
              "    }\n",
              "    90% {\n",
              "      border-color: transparent;\n",
              "      border-bottom-color: var(--fill-color);\n",
              "    }\n",
              "  }\n",
              "</style>\n",
              "\n",
              "  <script>\n",
              "    async function quickchart(key) {\n",
              "      const quickchartButtonEl =\n",
              "        document.querySelector('#' + key + ' button');\n",
              "      quickchartButtonEl.disabled = true;  // To prevent multiple clicks.\n",
              "      quickchartButtonEl.classList.add('colab-df-spinner');\n",
              "      try {\n",
              "        const charts = await google.colab.kernel.invokeFunction(\n",
              "            'suggestCharts', [key], {});\n",
              "      } catch (error) {\n",
              "        console.error('Error during call to suggestCharts:', error);\n",
              "      }\n",
              "      quickchartButtonEl.classList.remove('colab-df-spinner');\n",
              "      quickchartButtonEl.classList.add('colab-df-quickchart-complete');\n",
              "    }\n",
              "    (() => {\n",
              "      let quickchartButtonEl =\n",
              "        document.querySelector('#df-c37a2194-c456-41cb-a3fb-e54a54f303bf button');\n",
              "      quickchartButtonEl.style.display =\n",
              "        google.colab.kernel.accessAllowed ? 'block' : 'none';\n",
              "    })();\n",
              "  </script>\n",
              "</div>\n",
              "\n",
              "    </div>\n",
              "  </div>\n"
            ],
            "application/vnd.google.colaboratory.intrinsic+json": {
              "type": "dataframe",
              "variable_name": "df",
              "summary": "{\n  \"name\": \"df\",\n  \"rows\": 8000,\n  \"fields\": [\n    {\n      \"column\": \"Transaction Date and Time\",\n      \"properties\": {\n        \"dtype\": \"object\",\n        \"num_unique_values\": 8000,\n        \"samples\": [\n          \"2020-01-26 01:00:04\",\n          \"2020-01-11 14:09:06\",\n          \"2023-06-13 17:43:58\"\n        ],\n        \"semantic_type\": \"\",\n        \"description\": \"\"\n      }\n    },\n    {\n      \"column\": \"Transaction Amount\",\n      \"properties\": {\n        \"dtype\": \"number\",\n        \"std\": 1451.2213259467821,\n        \"min\": 1.09,\n        \"max\": 4996.7,\n        \"num_unique_values\": 7934,\n        \"samples\": [\n          618.61,\n          2942.95,\n          2005.4\n        ],\n        \"semantic_type\": \"\",\n        \"description\": \"\"\n      }\n    },\n    {\n      \"column\": \"Cardholder Name\",\n      \"properties\": {\n        \"dtype\": \"string\",\n        \"num_unique_values\": 7651,\n        \"samples\": [\n          \"Bhavin Mangat\",\n          \"Gatik Jain\",\n          \"Anahita Das\"\n        ],\n        \"semantic_type\": \"\",\n        \"description\": \"\"\n      }\n    },\n    {\n      \"column\": \"Card Number (Hashed or Encrypted)\",\n      \"properties\": {\n        \"dtype\": \"string\",\n        \"num_unique_values\": 8000,\n        \"samples\": [\n          \"f793d9e82723ca61d2df09009c00060fe81f19a11eadc2c566c1070ce8fce4d6\",\n          \"e7d00f5c2ba7ea4694fe72e49a57a01e5c17872285c0bf1b2f255652b6d49b82\",\n          \"bc15ef9f147571851af849e2e778b947844b8c1d93409bde426be0460fd8fb36\"\n        ],\n        \"semantic_type\": \"\",\n        \"description\": \"\"\n      }\n    },\n    {\n      \"column\": \"Merchant Name\",\n      \"properties\": {\n        \"dtype\": \"string\",\n        \"num_unique_values\": 7027,\n        \"samples\": [\n          \"Tata Group\",\n          \"Zacharia-Roy\",\n          \"Bail, Bawa and Salvi\"\n        ],\n        \"semantic_type\": \"\",\n        \"description\": \"\"\n      }\n    },\n    {\n      \"column\": \"Merchant Category Code (MCC)\",\n      \"properties\": {\n        \"dtype\": \"number\",\n        \"std\": 2608,\n        \"min\": 1000,\n        \"max\": 9999,\n        \"num_unique_values\": 5328,\n        \"samples\": [\n          3280,\n          4626,\n          5974\n        ],\n        \"semantic_type\": \"\",\n        \"description\": \"\"\n      }\n    },\n    {\n      \"column\": \"Transaction Location (City or ZIP Code)\",\n      \"properties\": {\n        \"dtype\": \"category\",\n        \"num_unique_values\": 316,\n        \"samples\": [\n          \"Varanasi\",\n          \"Muzaffarnagar\",\n          \"Durg\"\n        ],\n        \"semantic_type\": \"\",\n        \"description\": \"\"\n      }\n    },\n    {\n      \"column\": \"Transaction Currency\",\n      \"properties\": {\n        \"dtype\": \"category\",\n        \"num_unique_values\": 3,\n        \"samples\": [\n          \"INR\",\n          \"EUR\",\n          \"USD\"\n        ],\n        \"semantic_type\": \"\",\n        \"description\": \"\"\n      }\n    },\n    {\n      \"column\": \"Card Type\",\n      \"properties\": {\n        \"dtype\": \"category\",\n        \"num_unique_values\": 3,\n        \"samples\": [\n          \"MasterCard\",\n          \"American Express\",\n          \"Visa\"\n        ],\n        \"semantic_type\": \"\",\n        \"description\": \"\"\n      }\n    },\n    {\n      \"column\": \"Card Expiration Date\",\n      \"properties\": {\n        \"dtype\": \"category\",\n        \"num_unique_values\": 121,\n        \"samples\": [\n          \"08/27\",\n          \"04/26\",\n          \"03/31\"\n        ],\n        \"semantic_type\": \"\",\n        \"description\": \"\"\n      }\n    },\n    {\n      \"column\": \"CVV Code (Hashed or Encrypted)\",\n      \"properties\": {\n        \"dtype\": \"category\",\n        \"num_unique_values\": 1000,\n        \"samples\": [\n          \"8952115444bab6de66aab97501f75fee64be3448203a91b47818e5e8943e0dfb\",\n          \"35c71bd7eaf4607047bb7c186d17251942204229b897e033923b13dc8ce2d109\",\n          \"3658d7fa3c43456f3c9c87db0490e872039516e6375336254560167cc3db2ea2\"\n        ],\n        \"semantic_type\": \"\",\n        \"description\": \"\"\n      }\n    },\n    {\n      \"column\": \"Transaction Response Code\",\n      \"properties\": {\n        \"dtype\": \"number\",\n        \"std\": 4,\n        \"min\": 0,\n        \"max\": 12,\n        \"num_unique_values\": 3,\n        \"samples\": [\n          5,\n          12,\n          0\n        ],\n        \"semantic_type\": \"\",\n        \"description\": \"\"\n      }\n    },\n    {\n      \"column\": \"Transaction ID\",\n      \"properties\": {\n        \"dtype\": \"string\",\n        \"num_unique_values\": 8000,\n        \"samples\": [\n          \"5b8ede07-9d60-467a-ad80-6dca484e61f4\",\n          \"bd8849cc-aab7-4b79-964a-530b6f5006a1\",\n          \"63f77190-53db-4817-938e-a4a0fa1eda73\"\n        ],\n        \"semantic_type\": \"\",\n        \"description\": \"\"\n      }\n    },\n    {\n      \"column\": \"Fraud Flag or Label\",\n      \"properties\": {\n        \"dtype\": \"number\",\n        \"std\": 0,\n        \"min\": 0,\n        \"max\": 1,\n        \"num_unique_values\": 2,\n        \"samples\": [\n          0,\n          1\n        ],\n        \"semantic_type\": \"\",\n        \"description\": \"\"\n      }\n    },\n    {\n      \"column\": \"Previous Transactions\",\n      \"properties\": {\n        \"dtype\": \"category\",\n        \"num_unique_values\": 4,\n        \"samples\": [\n          \"3 or more\",\n          \"1\"\n        ],\n        \"semantic_type\": \"\",\n        \"description\": \"\"\n      }\n    },\n    {\n      \"column\": \"Transaction Source\",\n      \"properties\": {\n        \"dtype\": \"category\",\n        \"num_unique_values\": 2,\n        \"samples\": [\n          \"In-Person\",\n          \"Online\"\n        ],\n        \"semantic_type\": \"\",\n        \"description\": \"\"\n      }\n    },\n    {\n      \"column\": \"IP Address\",\n      \"properties\": {\n        \"dtype\": \"string\",\n        \"num_unique_values\": 8000,\n        \"samples\": [\n          \"189.80.103.232\",\n          \"37.41.164.148\"\n        ],\n        \"semantic_type\": \"\",\n        \"description\": \"\"\n      }\n    },\n    {\n      \"column\": \"Device Information\",\n      \"properties\": {\n        \"dtype\": \"category\",\n        \"num_unique_values\": 3,\n        \"samples\": [\n          \"Tablet\",\n          \"Mobile\"\n        ],\n        \"semantic_type\": \"\",\n        \"description\": \"\"\n      }\n    },\n    {\n      \"column\": \"User Account Information\",\n      \"properties\": {\n        \"dtype\": \"category\",\n        \"num_unique_values\": 3918,\n        \"samples\": [\n          \"warriornishith\",\n          \"gwagle\"\n        ],\n        \"semantic_type\": \"\",\n        \"description\": \"\"\n      }\n    },\n    {\n      \"column\": \"Transaction Notes\",\n      \"properties\": {\n        \"dtype\": \"string\",\n        \"num_unique_values\": 8000,\n        \"samples\": [\n          \"Quaerat cumque illum laborum illum ea. Incidunt quod ad quaerat expedita fuga iste iste.\",\n          \"Voluptas accusantium nihil veniam unde. Culpa vel explicabo sed voluptatem doloremque.\"\n        ],\n        \"semantic_type\": \"\",\n        \"description\": \"\"\n      }\n    }\n  ]\n}"
            }
          },
          "metadata": {},
          "execution_count": 5
        }
      ],
      "source": [
        "#To Display the First 5 Entries of Dataset\n",
        "df.head()"
      ]
    },
    {
      "cell_type": "code",
      "execution_count": null,
      "id": "32391bf1",
      "metadata": {
        "colab": {
          "base_uri": "https://localhost:8080/",
          "height": 573
        },
        "id": "32391bf1",
        "outputId": "06c5d26e-512e-4db2-8ae2-6e51ff775551"
      },
      "outputs": [
        {
          "output_type": "execute_result",
          "data": {
            "text/plain": [
              "     Transaction Date and Time  Transaction Amount  Cardholder Name  \\\n",
              "7995       2020-12-17 20:36:48             2214.15   Lakshay Khatri   \n",
              "7996       2022-07-04 05:19:11              675.97  Dharmajan Salvi   \n",
              "7997       2022-08-14 19:14:45              918.28        Alia Sane   \n",
              "7998       2021-05-16 18:21:52             3035.31      Chirag Rege   \n",
              "7999       2023-06-14 06:12:26             3354.36        Alia Bose   \n",
              "\n",
              "                      Card Number (Hashed or Encrypted)  \\\n",
              "7995  8a0015c8601fe597e160c31a05fd5e4a87a4b876df426f...   \n",
              "7996  de3530e65ccf6fc0c0eb7f7a7e8e5b71bb907d5207d390...   \n",
              "7997  227356d19fd5374e9cfdd134387fe3499683a1c7929981...   \n",
              "7998  669bd9fcc7e40cc25d99c773678e48bcb3fdadf7fee6a9...   \n",
              "7999  8db138a97db4df2c7533dfca014dcd85c0385846a55e6c...   \n",
              "\n",
              "                   Merchant Name  Merchant Category Code (MCC)  \\\n",
              "7995                   Manda Ltd                          1236   \n",
              "7996               Bhavsar Group                          3406   \n",
              "7997  Gole, Yohannan and Singhal                          7504   \n",
              "7998                   Kakar LLC                          4015   \n",
              "7999       Datta, Gandhi and Sha                          2902   \n",
              "\n",
              "     Transaction Location (City or ZIP Code) Transaction Currency  \\\n",
              "7995                             Anantapuram                  EUR   \n",
              "7996                                Guntakal                  INR   \n",
              "7997                                   Udupi                  USD   \n",
              "7998                        Sultan Pur Majra                  EUR   \n",
              "7999                                Dehradun                  INR   \n",
              "\n",
              "             Card Type Card Expiration Date  \\\n",
              "7995              Visa                04/26   \n",
              "7996              Visa                11/25   \n",
              "7997        MasterCard                05/24   \n",
              "7998  American Express                09/24   \n",
              "7999              Visa                02/24   \n",
              "\n",
              "                         CVV Code (Hashed or Encrypted)  \\\n",
              "7995  d4b9aead1dd10a596542d1d8211a5021b9c3e894751d01...   \n",
              "7996  d874e4e4a5df21173b0f83e313151f813bea4f488686ef...   \n",
              "7997  20e9c64c05a54d199610fb7e38135361324b5ed5dcf39c...   \n",
              "7998  e7866fdc6672f827c76f6124ca3eeaff44aff8b7caf4ee...   \n",
              "7999  c86a2932e1c79343a3c16fb218b9944791aaeedd3e30c8...   \n",
              "\n",
              "      Transaction Response Code                        Transaction ID  \\\n",
              "7995                          5  0d219c55-87cf-43af-a1bb-cda408710de1   \n",
              "7996                          0  054f6d58-9925-4c49-9f5d-01b6bf3db5c8   \n",
              "7997                          5  4178f63e-459b-40e6-8db6-a6ff2d6348e5   \n",
              "7998                          0  2424f724-8bd2-4dd0-8b39-e824999a9764   \n",
              "7999                         12  85588ac2-21c9-4c8d-a7fb-fd0d2b1fbb09   \n",
              "\n",
              "      Fraud Flag or Label Previous Transactions Transaction Source  \\\n",
              "7995                    0                     1             Online   \n",
              "7996                    1             3 or more          In-Person   \n",
              "7997                    1             3 or more          In-Person   \n",
              "7998                    1                     1          In-Person   \n",
              "7999                    0                     2          In-Person   \n",
              "\n",
              "           IP Address Device Information User Account Information  \\\n",
              "7995   214.34.176.247             Mobile               madhavshah   \n",
              "7996    34.237.199.33             Tablet                      NaN   \n",
              "7997  220.203.140.160             Tablet               suhanavala   \n",
              "7998   216.56.133.227             Tablet             sumeriyengar   \n",
              "7999    159.232.79.67             Mobile              prishaghose   \n",
              "\n",
              "                                      Transaction Notes  \n",
              "7995  Et maiores quaerat fugiat voluptatibus reprehe...  \n",
              "7996  Assumenda maxime provident rem quis consequunt...  \n",
              "7997  Voluptatibus odit praesentium iste libero ipsa...  \n",
              "7998  Animi excepturi nam distinctio fuga. Vel eius ...  \n",
              "7999  Ipsa minus aperiam beatae. Iure dicta mollitia...  "
            ],
            "text/html": [
              "\n",
              "  <div id=\"df-49437be9-8f29-43a5-9d47-9a6693d07f62\" class=\"colab-df-container\">\n",
              "    <div>\n",
              "<style scoped>\n",
              "    .dataframe tbody tr th:only-of-type {\n",
              "        vertical-align: middle;\n",
              "    }\n",
              "\n",
              "    .dataframe tbody tr th {\n",
              "        vertical-align: top;\n",
              "    }\n",
              "\n",
              "    .dataframe thead th {\n",
              "        text-align: right;\n",
              "    }\n",
              "</style>\n",
              "<table border=\"1\" class=\"dataframe\">\n",
              "  <thead>\n",
              "    <tr style=\"text-align: right;\">\n",
              "      <th></th>\n",
              "      <th>Transaction Date and Time</th>\n",
              "      <th>Transaction Amount</th>\n",
              "      <th>Cardholder Name</th>\n",
              "      <th>Card Number (Hashed or Encrypted)</th>\n",
              "      <th>Merchant Name</th>\n",
              "      <th>Merchant Category Code (MCC)</th>\n",
              "      <th>Transaction Location (City or ZIP Code)</th>\n",
              "      <th>Transaction Currency</th>\n",
              "      <th>Card Type</th>\n",
              "      <th>Card Expiration Date</th>\n",
              "      <th>CVV Code (Hashed or Encrypted)</th>\n",
              "      <th>Transaction Response Code</th>\n",
              "      <th>Transaction ID</th>\n",
              "      <th>Fraud Flag or Label</th>\n",
              "      <th>Previous Transactions</th>\n",
              "      <th>Transaction Source</th>\n",
              "      <th>IP Address</th>\n",
              "      <th>Device Information</th>\n",
              "      <th>User Account Information</th>\n",
              "      <th>Transaction Notes</th>\n",
              "    </tr>\n",
              "  </thead>\n",
              "  <tbody>\n",
              "    <tr>\n",
              "      <th>7995</th>\n",
              "      <td>2020-12-17 20:36:48</td>\n",
              "      <td>2214.15</td>\n",
              "      <td>Lakshay Khatri</td>\n",
              "      <td>8a0015c8601fe597e160c31a05fd5e4a87a4b876df426f...</td>\n",
              "      <td>Manda Ltd</td>\n",
              "      <td>1236</td>\n",
              "      <td>Anantapuram</td>\n",
              "      <td>EUR</td>\n",
              "      <td>Visa</td>\n",
              "      <td>04/26</td>\n",
              "      <td>d4b9aead1dd10a596542d1d8211a5021b9c3e894751d01...</td>\n",
              "      <td>5</td>\n",
              "      <td>0d219c55-87cf-43af-a1bb-cda408710de1</td>\n",
              "      <td>0</td>\n",
              "      <td>1</td>\n",
              "      <td>Online</td>\n",
              "      <td>214.34.176.247</td>\n",
              "      <td>Mobile</td>\n",
              "      <td>madhavshah</td>\n",
              "      <td>Et maiores quaerat fugiat voluptatibus reprehe...</td>\n",
              "    </tr>\n",
              "    <tr>\n",
              "      <th>7996</th>\n",
              "      <td>2022-07-04 05:19:11</td>\n",
              "      <td>675.97</td>\n",
              "      <td>Dharmajan Salvi</td>\n",
              "      <td>de3530e65ccf6fc0c0eb7f7a7e8e5b71bb907d5207d390...</td>\n",
              "      <td>Bhavsar Group</td>\n",
              "      <td>3406</td>\n",
              "      <td>Guntakal</td>\n",
              "      <td>INR</td>\n",
              "      <td>Visa</td>\n",
              "      <td>11/25</td>\n",
              "      <td>d874e4e4a5df21173b0f83e313151f813bea4f488686ef...</td>\n",
              "      <td>0</td>\n",
              "      <td>054f6d58-9925-4c49-9f5d-01b6bf3db5c8</td>\n",
              "      <td>1</td>\n",
              "      <td>3 or more</td>\n",
              "      <td>In-Person</td>\n",
              "      <td>34.237.199.33</td>\n",
              "      <td>Tablet</td>\n",
              "      <td>NaN</td>\n",
              "      <td>Assumenda maxime provident rem quis consequunt...</td>\n",
              "    </tr>\n",
              "    <tr>\n",
              "      <th>7997</th>\n",
              "      <td>2022-08-14 19:14:45</td>\n",
              "      <td>918.28</td>\n",
              "      <td>Alia Sane</td>\n",
              "      <td>227356d19fd5374e9cfdd134387fe3499683a1c7929981...</td>\n",
              "      <td>Gole, Yohannan and Singhal</td>\n",
              "      <td>7504</td>\n",
              "      <td>Udupi</td>\n",
              "      <td>USD</td>\n",
              "      <td>MasterCard</td>\n",
              "      <td>05/24</td>\n",
              "      <td>20e9c64c05a54d199610fb7e38135361324b5ed5dcf39c...</td>\n",
              "      <td>5</td>\n",
              "      <td>4178f63e-459b-40e6-8db6-a6ff2d6348e5</td>\n",
              "      <td>1</td>\n",
              "      <td>3 or more</td>\n",
              "      <td>In-Person</td>\n",
              "      <td>220.203.140.160</td>\n",
              "      <td>Tablet</td>\n",
              "      <td>suhanavala</td>\n",
              "      <td>Voluptatibus odit praesentium iste libero ipsa...</td>\n",
              "    </tr>\n",
              "    <tr>\n",
              "      <th>7998</th>\n",
              "      <td>2021-05-16 18:21:52</td>\n",
              "      <td>3035.31</td>\n",
              "      <td>Chirag Rege</td>\n",
              "      <td>669bd9fcc7e40cc25d99c773678e48bcb3fdadf7fee6a9...</td>\n",
              "      <td>Kakar LLC</td>\n",
              "      <td>4015</td>\n",
              "      <td>Sultan Pur Majra</td>\n",
              "      <td>EUR</td>\n",
              "      <td>American Express</td>\n",
              "      <td>09/24</td>\n",
              "      <td>e7866fdc6672f827c76f6124ca3eeaff44aff8b7caf4ee...</td>\n",
              "      <td>0</td>\n",
              "      <td>2424f724-8bd2-4dd0-8b39-e824999a9764</td>\n",
              "      <td>1</td>\n",
              "      <td>1</td>\n",
              "      <td>In-Person</td>\n",
              "      <td>216.56.133.227</td>\n",
              "      <td>Tablet</td>\n",
              "      <td>sumeriyengar</td>\n",
              "      <td>Animi excepturi nam distinctio fuga. Vel eius ...</td>\n",
              "    </tr>\n",
              "    <tr>\n",
              "      <th>7999</th>\n",
              "      <td>2023-06-14 06:12:26</td>\n",
              "      <td>3354.36</td>\n",
              "      <td>Alia Bose</td>\n",
              "      <td>8db138a97db4df2c7533dfca014dcd85c0385846a55e6c...</td>\n",
              "      <td>Datta, Gandhi and Sha</td>\n",
              "      <td>2902</td>\n",
              "      <td>Dehradun</td>\n",
              "      <td>INR</td>\n",
              "      <td>Visa</td>\n",
              "      <td>02/24</td>\n",
              "      <td>c86a2932e1c79343a3c16fb218b9944791aaeedd3e30c8...</td>\n",
              "      <td>12</td>\n",
              "      <td>85588ac2-21c9-4c8d-a7fb-fd0d2b1fbb09</td>\n",
              "      <td>0</td>\n",
              "      <td>2</td>\n",
              "      <td>In-Person</td>\n",
              "      <td>159.232.79.67</td>\n",
              "      <td>Mobile</td>\n",
              "      <td>prishaghose</td>\n",
              "      <td>Ipsa minus aperiam beatae. Iure dicta mollitia...</td>\n",
              "    </tr>\n",
              "  </tbody>\n",
              "</table>\n",
              "</div>\n",
              "    <div class=\"colab-df-buttons\">\n",
              "\n",
              "  <div class=\"colab-df-container\">\n",
              "    <button class=\"colab-df-convert\" onclick=\"convertToInteractive('df-49437be9-8f29-43a5-9d47-9a6693d07f62')\"\n",
              "            title=\"Convert this dataframe to an interactive table.\"\n",
              "            style=\"display:none;\">\n",
              "\n",
              "  <svg xmlns=\"http://www.w3.org/2000/svg\" height=\"24px\" viewBox=\"0 -960 960 960\">\n",
              "    <path d=\"M120-120v-720h720v720H120Zm60-500h600v-160H180v160Zm220 220h160v-160H400v160Zm0 220h160v-160H400v160ZM180-400h160v-160H180v160Zm440 0h160v-160H620v160ZM180-180h160v-160H180v160Zm440 0h160v-160H620v160Z\"/>\n",
              "  </svg>\n",
              "    </button>\n",
              "\n",
              "  <style>\n",
              "    .colab-df-container {\n",
              "      display:flex;\n",
              "      gap: 12px;\n",
              "    }\n",
              "\n",
              "    .colab-df-convert {\n",
              "      background-color: #E8F0FE;\n",
              "      border: none;\n",
              "      border-radius: 50%;\n",
              "      cursor: pointer;\n",
              "      display: none;\n",
              "      fill: #1967D2;\n",
              "      height: 32px;\n",
              "      padding: 0 0 0 0;\n",
              "      width: 32px;\n",
              "    }\n",
              "\n",
              "    .colab-df-convert:hover {\n",
              "      background-color: #E2EBFA;\n",
              "      box-shadow: 0px 1px 2px rgba(60, 64, 67, 0.3), 0px 1px 3px 1px rgba(60, 64, 67, 0.15);\n",
              "      fill: #174EA6;\n",
              "    }\n",
              "\n",
              "    .colab-df-buttons div {\n",
              "      margin-bottom: 4px;\n",
              "    }\n",
              "\n",
              "    [theme=dark] .colab-df-convert {\n",
              "      background-color: #3B4455;\n",
              "      fill: #D2E3FC;\n",
              "    }\n",
              "\n",
              "    [theme=dark] .colab-df-convert:hover {\n",
              "      background-color: #434B5C;\n",
              "      box-shadow: 0px 1px 3px 1px rgba(0, 0, 0, 0.15);\n",
              "      filter: drop-shadow(0px 1px 2px rgba(0, 0, 0, 0.3));\n",
              "      fill: #FFFFFF;\n",
              "    }\n",
              "  </style>\n",
              "\n",
              "    <script>\n",
              "      const buttonEl =\n",
              "        document.querySelector('#df-49437be9-8f29-43a5-9d47-9a6693d07f62 button.colab-df-convert');\n",
              "      buttonEl.style.display =\n",
              "        google.colab.kernel.accessAllowed ? 'block' : 'none';\n",
              "\n",
              "      async function convertToInteractive(key) {\n",
              "        const element = document.querySelector('#df-49437be9-8f29-43a5-9d47-9a6693d07f62');\n",
              "        const dataTable =\n",
              "          await google.colab.kernel.invokeFunction('convertToInteractive',\n",
              "                                                    [key], {});\n",
              "        if (!dataTable) return;\n",
              "\n",
              "        const docLinkHtml = 'Like what you see? Visit the ' +\n",
              "          '<a target=\"_blank\" href=https://colab.research.google.com/notebooks/data_table.ipynb>data table notebook</a>'\n",
              "          + ' to learn more about interactive tables.';\n",
              "        element.innerHTML = '';\n",
              "        dataTable['output_type'] = 'display_data';\n",
              "        await google.colab.output.renderOutput(dataTable, element);\n",
              "        const docLink = document.createElement('div');\n",
              "        docLink.innerHTML = docLinkHtml;\n",
              "        element.appendChild(docLink);\n",
              "      }\n",
              "    </script>\n",
              "  </div>\n",
              "\n",
              "\n",
              "<div id=\"df-11294f50-9e0b-42af-a775-8d15b53cdd15\">\n",
              "  <button class=\"colab-df-quickchart\" onclick=\"quickchart('df-11294f50-9e0b-42af-a775-8d15b53cdd15')\"\n",
              "            title=\"Suggest charts\"\n",
              "            style=\"display:none;\">\n",
              "\n",
              "<svg xmlns=\"http://www.w3.org/2000/svg\" height=\"24px\"viewBox=\"0 0 24 24\"\n",
              "     width=\"24px\">\n",
              "    <g>\n",
              "        <path d=\"M19 3H5c-1.1 0-2 .9-2 2v14c0 1.1.9 2 2 2h14c1.1 0 2-.9 2-2V5c0-1.1-.9-2-2-2zM9 17H7v-7h2v7zm4 0h-2V7h2v10zm4 0h-2v-4h2v4z\"/>\n",
              "    </g>\n",
              "</svg>\n",
              "  </button>\n",
              "\n",
              "<style>\n",
              "  .colab-df-quickchart {\n",
              "      --bg-color: #E8F0FE;\n",
              "      --fill-color: #1967D2;\n",
              "      --hover-bg-color: #E2EBFA;\n",
              "      --hover-fill-color: #174EA6;\n",
              "      --disabled-fill-color: #AAA;\n",
              "      --disabled-bg-color: #DDD;\n",
              "  }\n",
              "\n",
              "  [theme=dark] .colab-df-quickchart {\n",
              "      --bg-color: #3B4455;\n",
              "      --fill-color: #D2E3FC;\n",
              "      --hover-bg-color: #434B5C;\n",
              "      --hover-fill-color: #FFFFFF;\n",
              "      --disabled-bg-color: #3B4455;\n",
              "      --disabled-fill-color: #666;\n",
              "  }\n",
              "\n",
              "  .colab-df-quickchart {\n",
              "    background-color: var(--bg-color);\n",
              "    border: none;\n",
              "    border-radius: 50%;\n",
              "    cursor: pointer;\n",
              "    display: none;\n",
              "    fill: var(--fill-color);\n",
              "    height: 32px;\n",
              "    padding: 0;\n",
              "    width: 32px;\n",
              "  }\n",
              "\n",
              "  .colab-df-quickchart:hover {\n",
              "    background-color: var(--hover-bg-color);\n",
              "    box-shadow: 0 1px 2px rgba(60, 64, 67, 0.3), 0 1px 3px 1px rgba(60, 64, 67, 0.15);\n",
              "    fill: var(--button-hover-fill-color);\n",
              "  }\n",
              "\n",
              "  .colab-df-quickchart-complete:disabled,\n",
              "  .colab-df-quickchart-complete:disabled:hover {\n",
              "    background-color: var(--disabled-bg-color);\n",
              "    fill: var(--disabled-fill-color);\n",
              "    box-shadow: none;\n",
              "  }\n",
              "\n",
              "  .colab-df-spinner {\n",
              "    border: 2px solid var(--fill-color);\n",
              "    border-color: transparent;\n",
              "    border-bottom-color: var(--fill-color);\n",
              "    animation:\n",
              "      spin 1s steps(1) infinite;\n",
              "  }\n",
              "\n",
              "  @keyframes spin {\n",
              "    0% {\n",
              "      border-color: transparent;\n",
              "      border-bottom-color: var(--fill-color);\n",
              "      border-left-color: var(--fill-color);\n",
              "    }\n",
              "    20% {\n",
              "      border-color: transparent;\n",
              "      border-left-color: var(--fill-color);\n",
              "      border-top-color: var(--fill-color);\n",
              "    }\n",
              "    30% {\n",
              "      border-color: transparent;\n",
              "      border-left-color: var(--fill-color);\n",
              "      border-top-color: var(--fill-color);\n",
              "      border-right-color: var(--fill-color);\n",
              "    }\n",
              "    40% {\n",
              "      border-color: transparent;\n",
              "      border-right-color: var(--fill-color);\n",
              "      border-top-color: var(--fill-color);\n",
              "    }\n",
              "    60% {\n",
              "      border-color: transparent;\n",
              "      border-right-color: var(--fill-color);\n",
              "    }\n",
              "    80% {\n",
              "      border-color: transparent;\n",
              "      border-right-color: var(--fill-color);\n",
              "      border-bottom-color: var(--fill-color);\n",
              "    }\n",
              "    90% {\n",
              "      border-color: transparent;\n",
              "      border-bottom-color: var(--fill-color);\n",
              "    }\n",
              "  }\n",
              "</style>\n",
              "\n",
              "  <script>\n",
              "    async function quickchart(key) {\n",
              "      const quickchartButtonEl =\n",
              "        document.querySelector('#' + key + ' button');\n",
              "      quickchartButtonEl.disabled = true;  // To prevent multiple clicks.\n",
              "      quickchartButtonEl.classList.add('colab-df-spinner');\n",
              "      try {\n",
              "        const charts = await google.colab.kernel.invokeFunction(\n",
              "            'suggestCharts', [key], {});\n",
              "      } catch (error) {\n",
              "        console.error('Error during call to suggestCharts:', error);\n",
              "      }\n",
              "      quickchartButtonEl.classList.remove('colab-df-spinner');\n",
              "      quickchartButtonEl.classList.add('colab-df-quickchart-complete');\n",
              "    }\n",
              "    (() => {\n",
              "      let quickchartButtonEl =\n",
              "        document.querySelector('#df-11294f50-9e0b-42af-a775-8d15b53cdd15 button');\n",
              "      quickchartButtonEl.style.display =\n",
              "        google.colab.kernel.accessAllowed ? 'block' : 'none';\n",
              "    })();\n",
              "  </script>\n",
              "</div>\n",
              "\n",
              "    </div>\n",
              "  </div>\n"
            ],
            "application/vnd.google.colaboratory.intrinsic+json": {
              "type": "dataframe",
              "repr_error": "0"
            }
          },
          "metadata": {},
          "execution_count": 6
        }
      ],
      "source": [
        "#To Display the Last 5 Entries of Dataset\n",
        "df.tail()"
      ]
    },
    {
      "cell_type": "markdown",
      "id": "c28a89c9",
      "metadata": {
        "id": "c28a89c9"
      },
      "source": [
        "## 2. Data Preprocessing"
      ]
    },
    {
      "cell_type": "markdown",
      "id": "d9cbcbb5",
      "metadata": {
        "id": "d9cbcbb5"
      },
      "source": [
        "This line of code is used to count the occurrences of each unique value in the 'Fraud Flag or Label' column of the DataFrame `df`. It returns a series with the count of unique values. In the context, it is used to understand the distribution of fraudulent and non-fraudulent transactions in the dataset."
      ]
    },
    {
      "cell_type": "code",
      "execution_count": null,
      "id": "de4c61a0",
      "metadata": {
        "colab": {
          "base_uri": "https://localhost:8080/"
        },
        "id": "de4c61a0",
        "outputId": "4e6f7393-a3b2-4c14-952d-a60053629ef3"
      },
      "outputs": [
        {
          "output_type": "execute_result",
          "data": {
            "text/plain": [
              "0    4011\n",
              "1    3989\n",
              "Name: Fraud Flag or Label, dtype: int64"
            ]
          },
          "metadata": {},
          "execution_count": 7
        }
      ],
      "source": [
        "#Count of the Fraud Flag\n",
        "df['Fraud Flag or Label'].value_counts()"
      ]
    },
    {
      "cell_type": "markdown",
      "id": "eebe253a",
      "metadata": {
        "id": "eebe253a"
      },
      "source": [
        "This line of code is used to plot the bar graph of he 'Fraud Flag or Label' count as shown above."
      ]
    },
    {
      "cell_type": "code",
      "execution_count": null,
      "id": "dd25bfa2",
      "metadata": {
        "colab": {
          "base_uri": "https://localhost:8080/",
          "height": 443
        },
        "id": "dd25bfa2",
        "outputId": "d92b1e5e-e1e9-407f-8536-2720a090e8cd"
      },
      "outputs": [
        {
          "output_type": "execute_result",
          "data": {
            "text/plain": [
              "<Axes: >"
            ]
          },
          "metadata": {},
          "execution_count": 8
        },
        {
          "output_type": "display_data",
          "data": {
            "text/plain": [
              "<Figure size 640x480 with 1 Axes>"
            ],
            "image/png": "[encoded data removed]"
          },
          "metadata": {}
        }
      ],
      "source": [
        "#Visualizing the count using the bar graph\n",
        "pd.value_counts(df['Fraud Flag or Label']).plot.bar()"
      ]
    },
    {
      "cell_type": "markdown",
      "id": "68837ecb",
      "metadata": {
        "id": "68837ecb"
      },
      "source": [
        "This code drops the 'Transaction Date and Time' and 'IP Address' columns from the DataFrame df and selects only the columns with numeric data types to create the feature matrix X and the label vector 'y'.It then splits the feature matrix and label vector into training and testing sets using an 80:20 ratio and a random seed of 42.Finally, it converts the training and testing data from NumPy arrays to PyTorch tensors of type float32."
      ]
    },
    {
      "cell_type": "code",
      "execution_count": null,
      "id": "4106bebc",
      "metadata": {
        "id": "4106bebc"
      },
      "outputs": [],
      "source": [
        "# Drop any non-numeric or non-essential columns\n",
        "X = df.drop(['Transaction Date and Time', 'IP Address'], axis=1).select_dtypes(include=['number']).values  # Features\n",
        "y = df['Fraud Flag or Label'].values  # Labels\n",
        "\n",
        "# Split the dataset into training and testing sets\n",
        "from sklearn.model_selection import train_test_split\n",
        "X_train, X_test, y_train, y_test = train_test_split(X, y, test_size=0.2, random_state=42)\n",
        "\n",
        "# Convert arrays to PyTorch tensors\n",
        "X_train = torch.tensor(X_train, dtype=torch.float32)\n",
        "y_train = torch.tensor(y_train, dtype=torch.float32)\n",
        "X_test = torch.tensor(X_test, dtype=torch.float32)\n",
        "y_test = torch.tensor(y_test, dtype=torch.float32)\n"
      ]
    },
    {
      "cell_type": "markdown",
      "id": "8000745d",
      "metadata": {
        "id": "8000745d"
      },
      "source": [
        "##  3.Neural Network Model Definition"
      ]
    },
    {
      "cell_type": "markdown",
      "id": "40f649cc",
      "metadata": {
        "id": "40f649cc"
      },
      "source": [
        "The provided code defines a neural network architecture for credit card fraud detection using PyTorch. The `FraudDetectionNN` class is created with three fully connected layers, where the first two layers use the ReLU (Rectified Linear Unit) activation function to introduce non-linearity, and the final output layer uses the sigmoid activation function for binary classification. The network is initialized with specific input as 4, hidden as 64, and output layer size as 1."
      ]
    },
    {
      "cell_type": "code",
      "execution_count": null,
      "id": "51749037",
      "metadata": {
        "id": "51749037"
      },
      "outputs": [],
      "source": [
        "# Define the neural network architecture with activation functions\n",
        "class FraudDetectionNN(nn.Module):\n",
        "    def __init__(self, input_size, hidden_size, output_size):\n",
        "        super(FraudDetectionNN, self).__init__()\n",
        "        self.fc1 = nn.Linear(input_size, hidden_size)  # Input layer\n",
        "        self.fc2 = nn.Linear(hidden_size, hidden_size)  # Hidden layer\n",
        "        self.fc3 = nn.Linear(hidden_size, output_size)  # Output layer\n",
        "\n",
        "    def forward(self, x):\n",
        "        x = F.relu(self.fc1(x))  # ReLU activation function for the first hidden layer\n",
        "        x = F.relu(self.fc2(x))  # ReLU activation function for the second hidden layer\n",
        "        x = F.sigmoid(self.fc3(x))  # Sigmoid activation function for the output layer\n",
        "        return x\n",
        "\n",
        "# Initialize the neural network with the determined input, hidden, and output sizes\n",
        "input_size = 4  # Replace with the actual number of input features in the credit card fraud dataset\n",
        "hidden_size = 64  # Choose an appropriate number of neurons for the hidden layer\n",
        "output_size = 1  # For binary classification (fraudulent vs. non-fraudulent)\n",
        "model = FraudDetectionNN(input_size, hidden_size, output_size)"
      ]
    },
    {
      "cell_type": "markdown",
      "id": "79818d64",
      "metadata": {
        "id": "79818d64"
      },
      "source": [
        "This code involves the definition of a loss function and an optimizer, both of which are essential for training a neural network effectively. The line `loss_function` defines the loss function for the neural network. In this case, it is `BCEWithLogitsLoss`, which stands for Binary Cross-Entropy with Logits Loss. This particular loss function is commonly used for binary classification tasks, such as the fraud detection problem at hand. It combines a sigmoid activation function and the binary cross-entropy loss, making it suitable for scenarios where the model's final layer does not contain a sigmoid activation function. By utilizing this loss function, the model is trained to produce output values that can be interpreted as probabilities and compared with the actual binary labels, enabling effective training for binary classification tasks.\n",
        "\n",
        "\n",
        "The line `optimizer` defines the optimizer for the neural network. Here, the Adam optimizer is employed with a learning rate of 0.001. The Adam optimizer is an adaptive learning rate optimization algorithm that is well-suited for training deep neural networks. It maintains adaptive learning rates for each parameter and separately adapts the rates based on the average of the first and second moments of the gradients. This adaptive nature allows Adam to efficiently handle sparse gradients, noisy problems, and large-scale applications. The choice of a learning rate of 0.001 is a common starting point and can be adjusted based on the specific characteristics of the dataset and the network architecture."
      ]
    },
    {
      "cell_type": "code",
      "execution_count": null,
      "id": "327ef37f",
      "metadata": {
        "id": "327ef37f"
      },
      "outputs": [],
      "source": [
        "# Define the loss function\n",
        "loss_function = nn.BCEWithLogitsLoss()\n",
        "\n",
        "# Define the optimizer\n",
        "optimizer = torch.optim.Adam(model.parameters(), lr=0.001)"
      ]
    },
    {
      "cell_type": "markdown",
      "id": "34181445",
      "metadata": {
        "id": "34181445"
      },
      "source": [
        "The line of code `print(X_train.shape)` is used to display the shape of the training data, allowing for a quick inspection of the dimensions of the input data to ensure it aligns with the expected format, which is a common practice in machine learning. Subsequently, the line `y_pred = model(X_train)` is employed to make predictions using the trained neural network model, where the input data `X_train` is passed to the model, and the resulting `y_pred` contains the model's predictions for the input data. This step is crucial for evaluating the model's performance and comparing its predictions to the actual target values, with the `y_pred` array having a shape corresponding to the number of samples and the model's output dimensions, determined by the architecture of the neural network and the specific problem being addressed."
      ]
    },
    {
      "cell_type": "code",
      "execution_count": null,
      "id": "783892aa",
      "metadata": {
        "colab": {
          "base_uri": "https://localhost:8080/"
        },
        "id": "783892aa",
        "outputId": "ed5668ce-8a27-4cca-eac8-19dc53c6bc0f"
      },
      "outputs": [
        {
          "output_type": "stream",
          "name": "stdout",
          "text": [
            "torch.Size([6400, 4])\n"
          ]
        }
      ],
      "source": [
        "print(X_train.shape)\n",
        "y_pred = model(X_train)"
      ]
    },
    {
      "cell_type": "markdown",
      "id": "689b8500",
      "metadata": {
        "id": "689b8500"
      },
      "source": [
        "## 4. Model Training"
      ]
    },
    {
      "cell_type": "markdown",
      "id": "23eadd9c",
      "metadata": {
        "id": "23eadd9c"
      },
      "source": [
        "The provided code sets the number of training epochs to 100 and then initiates a training loop that iterates over the specified number of epochs. Within each epoch, the model is set to training mode using `model.train()`, the optimizer's gradients are cleared with `optimizer.zero_grad()`, and the forward pass is performed to obtain the predictions for the training data. Subsequently, the loss is computed using the specified loss function, and the backward pass is executed to calculate the gradients. The optimizer is then used to update the model's parameters based on the computed gradients. Additionally, the code includes a conditional statement to print the training loss every 10 epochs, providing visibility into the model's training progress and the convergence of the loss function over the course of the training process. This approach allows for monitoring the model's performance and loss reduction throughout the training iterations, aiding in the assessment of the training dynamics and the effectiveness of the optimization process."
      ]
    },
    {
      "cell_type": "code",
      "execution_count": null,
      "id": "d7a4536b",
      "metadata": {
        "colab": {
          "base_uri": "https://localhost:8080/"
        },
        "id": "d7a4536b",
        "outputId": "99a28086-6016-44b0-d0a4-7902bcce905e"
      },
      "outputs": [
        {
          "output_type": "stream",
          "name": "stdout",
          "text": [
            "Epoch 1/100, Loss: 0.8149045705795288\n",
            "Epoch 11/100, Loss: 0.6931473016738892\n",
            "Epoch 21/100, Loss: 0.6931473016738892\n",
            "Epoch 31/100, Loss: 0.6931473016738892\n",
            "Epoch 41/100, Loss: 0.6931473016738892\n",
            "Epoch 51/100, Loss: 0.6931473016738892\n",
            "Epoch 61/100, Loss: 0.6931473016738892\n",
            "Epoch 71/100, Loss: 0.6931473016738892\n",
            "Epoch 81/100, Loss: 0.6931473016738892\n",
            "Epoch 91/100, Loss: 0.6931473016738892\n"
          ]
        }
      ],
      "source": [
        "# Number of epochs\n",
        "epochs = 100\n",
        "\n",
        "# Training loop\n",
        "for epoch in range(epochs):\n",
        "    model.train()\n",
        "    optimizer.zero_grad()  # Clear the gradients\n",
        "    # Forward pass\n",
        "    y_pred = model(X_train)\n",
        "    # Compute loss\n",
        "    loss = loss_function(y_pred.squeeze(), y_train)\n",
        "    # Backward pass\n",
        "    loss.backward()\n",
        "    optimizer.step()\n",
        "\n",
        "    # Print loss every 10 epochs\n",
        "    if epoch % 10 == 0:\n",
        "        print(f'Epoch {epoch+1}/{epochs}, Loss: {loss.item()}')"
      ]
    },
    {
      "cell_type": "markdown",
      "id": "75717b43",
      "metadata": {
        "id": "75717b43"
      },
      "source": [
        "## 5. Model Evaluation"
      ]
    },
    {
      "cell_type": "markdown",
      "id": "ce221357",
      "metadata": {
        "id": "ce221357"
      },
      "source": [
        "Here at frist, the model is set to evaluation mode using `model.eval()`. Then, with the `torch.no_grad()` context manager, predictions are made on the test data `X_test` using the trained model `model`. The output of the model is then transformed into class predictions by rounding the values to the nearest integer using `torch.round(torch.sigmoid(y_pred.squeeze()))`. After this, the code calculates and prints a classification report using the `classification_report` function from the `sklearn.metrics` module, which provides a comprehensive summary of the model's performance, including metrics such as precision, recall, and F1-score for each class. Additionally, the code computes and prints the confusion matrix for the model's predictions on the test data using the `confusion_matrix` function from the `sklearn.metrics` module, which allows for a detailed analysis of the model's performance in terms of true positive, false positive, true negative, and false negative predictions. These metrics and visualizations are essential for understanding how well the model is performing and identifying any potential issues such as imbalanced class predictions or specific types of misclassifications."
      ]
    },
    {
      "cell_type": "code",
      "execution_count": null,
      "id": "2ab480eb",
      "metadata": {
        "colab": {
          "base_uri": "https://localhost:8080/"
        },
        "id": "2ab480eb",
        "outputId": "984b591f-a2c5-4164-b485-08836200fe04"
      },
      "outputs": [
        {
          "output_type": "stream",
          "name": "stdout",
          "text": [
            "              precision    recall  f1-score   support\n",
            "\n",
            "         0.0       0.50      1.00      0.66       793\n",
            "         1.0       0.00      0.00      0.00       807\n",
            "\n",
            "    accuracy                           0.50      1600\n",
            "   macro avg       0.25      0.50      0.33      1600\n",
            "weighted avg       0.25      0.50      0.33      1600\n",
            "\n",
            "[[793   0]\n",
            " [807   0]]\n"
          ]
        },
        {
          "output_type": "stream",
          "name": "stderr",
          "text": [
            "/usr/local/lib/python3.10/dist-packages/sklearn/metrics/_classification.py:1344: UndefinedMetricWarning: Precision and F-score are ill-defined and being set to 0.0 in labels with no predicted samples. Use `zero_division` parameter to control this behavior.\n",
            "  _warn_prf(average, modifier, msg_start, len(result))\n",
            "/usr/local/lib/python3.10/dist-packages/sklearn/metrics/_classification.py:1344: UndefinedMetricWarning: Precision and F-score are ill-defined and being set to 0.0 in labels with no predicted samples. Use `zero_division` parameter to control this behavior.\n",
            "  _warn_prf(average, modifier, msg_start, len(result))\n",
            "/usr/local/lib/python3.10/dist-packages/sklearn/metrics/_classification.py:1344: UndefinedMetricWarning: Precision and F-score are ill-defined and being set to 0.0 in labels with no predicted samples. Use `zero_division` parameter to control this behavior.\n",
            "  _warn_prf(average, modifier, msg_start, len(result))\n"
          ]
        }
      ],
      "source": [
        "from sklearn.metrics import classification_report, confusion_matrix\n",
        "\n",
        "# Evaluate the model\n",
        "model.eval()\n",
        "with torch.no_grad():\n",
        "    y_pred = model(X_test)\n",
        "    y_pred_class = torch.round(torch.sigmoid(y_pred.squeeze()))\n",
        "\n",
        "# Calculate evaluation metrics\n",
        "print(classification_report(y_test, y_pred_class))\n",
        "cm = confusion_matrix(y_test, y_pred_class)\n",
        "print(cm)"
      ]
    },
    {
      "cell_type": "markdown",
      "id": "7f730ef6",
      "metadata": {
        "id": "7f730ef6"
      },
      "source": [
        "The provided code segment is responsible for visualizing the confusion matrix, a key tool for evaluating the performance of a machine learning model. The `sns.heatmap(cm, annot=True, fmt='d')` line utilizes the `seaborn` library to create a heatmap of the confusion matrix. The `annot=True` parameter ensures that the cell values are annotated within the heatmap, and `fmt='d'` specifies that the annotations should be in integer format. The `plt.xlabel('Predicted')` and `plt.ylabel('True')` lines set the labels for the x-axis and y-axis of the plot, indicating the predicted and true class labels, respectively. Finally, `plt.show()` is used to display the generated heatmap. This visualization provides a clear and intuitive representation of the model's performance, allowing for easy identification of misclassifications and an overall assessment of the model's predictive accuracy."
      ]
    },
    {
      "cell_type": "code",
      "execution_count": null,
      "id": "5a9d2a75",
      "metadata": {
        "colab": {
          "base_uri": "https://localhost:8080/",
          "height": 452
        },
        "id": "5a9d2a75",
        "outputId": "a54d724d-5820-4167-a361-1f3a77e08598"
      },
      "outputs": [
        {
          "output_type": "display_data",
          "data": {
            "text/plain": [
              "<Figure size 640x480 with 2 Axes>"
            ],
            "image/png": "[encoded data removed]"
          },
          "metadata": {}
        }
      ],
      "source": [
        "# Confusion matrix visualization\n",
        "sns.heatmap(cm, annot=True, fmt='d')\n",
        "plt.xlabel('Predicted')\n",
        "plt.ylabel('True')\n",
        "plt.show()"
      ]
    },
    {
      "cell_type": "markdown",
      "id": "379d4518",
      "metadata": {
        "id": "379d4518"
      },
      "source": [
        "## Overall Understanding"
      ]
    },
    {
      "cell_type": "markdown",
      "id": "47a944ab",
      "metadata": {
        "id": "47a944ab"
      },
      "source": [
        "This project consists of several essential steps for building and training a neural network for credit card fraud detection. It begins by importing the necessary libraries, including `pandas` for data manipulation, `torch.nn` and `torch.nn.functional` for defining and training neural networks, and `matplotlib.pyplot` and `seaborn` for data visualization. The credit card transaction dataset is then loaded using `pd.read_csv`, and the first few rows of the dataset are displayed to provide an initial overview of the data.\n",
        "\n",
        "Subsequently, the code performs data preprocessing, which involves dropping non-numeric or non-essential columns from the dataset and splitting the data into training and testing sets. The numeric features are then converted to PyTorch tensors, which are essential for training a PyTorch neural network.\n",
        "\n",
        "The next steps include defining a neural network architecture for fraud detection, training the model using the defined architecture, and evaluating the model's performance. The model is trained using a specified number of epochs, and the loss is printed at regular intervals to monitor the training progress. After training, the model is evaluated using the testing set, and a classification report and confusion matrix are generated to assess the model's performance. The confusion matrix is visualized using `seaborn` to provide a clear representation of the model's predictive capabilities."
      ]
    },
    {
      "cell_type": "code",
      "execution_count": null,
      "id": "466da0af",
      "metadata": {
        "id": "466da0af"
      },
      "outputs": [],
      "source": []
    }
  ],
  "metadata": {
    "kernelspec": {
      "display_name": "Python 3 (ipykernel)",
      "language": "python",
      "name": "python3"
    },
    "language_info": {
      "codemirror_mode": {
        "name": "ipython",
        "version": 3
      },
      "file_extension": ".py",
      "mimetype": "text/x-python",
      "name": "python",
      "nbconvert_exporter": "python",
      "pygments_lexer": "ipython3",
      "version": "3.11.5"
    },
    "colab": {
      "provenance": [],
      "include_colab_link": true
    }
  },
  "nbformat": 4,
  "nbformat_minor": 5
}